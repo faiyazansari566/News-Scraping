{
 "cells": [
  {
   "cell_type": "code",
   "execution_count": 1,
   "metadata": {},
   "outputs": [],
   "source": [
    "import selenium \n",
    "import pandas as pd\n",
    "from selenium import webdriver\n",
    "import time \n",
    "from selenium.common.exceptions import NoSuchElementException , StaleElementReferenceException"
   ]
  },
  {
   "cell_type": "code",
   "execution_count": 2,
   "metadata": {},
   "outputs": [],
   "source": [
    "driver = webdriver.Chrome(\"C:/Users/User/Downloads/chromedriver_win32 (2)/chromedriver.exe\")"
   ]
  },
  {
   "cell_type": "code",
   "execution_count": 3,
   "metadata": {},
   "outputs": [],
   "source": [
    "driver.get(\"https://www.thehindu.com/archive/\")"
   ]
  },
  {
   "cell_type": "code",
   "execution_count": 4,
   "metadata": {},
   "outputs": [],
   "source": [
    "find = driver.find_element_by_xpath(\"//div[@class='archiveContainer']/div[3]/div[2]/ul[13]/li[7]/a\")\n",
    "driver.get(find.get_attribute(\"href\"))"
   ]
  },
  {
   "cell_type": "code",
   "execution_count": 5,
   "metadata": {},
   "outputs": [],
   "source": [
    "#code to get urls for a specific july month date\n",
    "urls=[]\n",
    "for i in driver.find_elements_by_xpath(\"//table[@class='archiveTable']/tbody/tr/td/a\"):\n",
    "    urls.append(i.get_attribute(\"href\"))"
   ]
  },
  {
   "cell_type": "code",
   "execution_count": 16,
   "metadata": {},
   "outputs": [
    {
     "data": {
      "text/plain": [
       "31"
      ]
     },
     "execution_count": 16,
     "metadata": {},
     "output_type": "execute_result"
    }
   ],
   "source": [
    "len(urls)"
   ]
  },
  {
   "cell_type": "code",
   "execution_count": 17,
   "metadata": {},
   "outputs": [
    {
     "data": {
      "text/plain": [
       "['https://www.thehindu.com/archive/web/2021/07/01/',\n",
       " 'https://www.thehindu.com/archive/web/2021/07/02/',\n",
       " 'https://www.thehindu.com/archive/web/2021/07/03/',\n",
       " 'https://www.thehindu.com/archive/web/2021/07/04/',\n",
       " 'https://www.thehindu.com/archive/web/2021/07/05/',\n",
       " 'https://www.thehindu.com/archive/web/2021/07/06/',\n",
       " 'https://www.thehindu.com/archive/web/2021/07/07/',\n",
       " 'https://www.thehindu.com/archive/web/2021/07/08/',\n",
       " 'https://www.thehindu.com/archive/web/2021/07/09/',\n",
       " 'https://www.thehindu.com/archive/web/2021/07/10/',\n",
       " 'https://www.thehindu.com/archive/web/2021/07/11/',\n",
       " 'https://www.thehindu.com/archive/web/2021/07/12/',\n",
       " 'https://www.thehindu.com/archive/web/2021/07/13/',\n",
       " 'https://www.thehindu.com/archive/web/2021/07/14/',\n",
       " 'https://www.thehindu.com/archive/web/2021/07/15/',\n",
       " 'https://www.thehindu.com/archive/web/2021/07/16/',\n",
       " 'https://www.thehindu.com/archive/web/2021/07/17/',\n",
       " 'https://www.thehindu.com/archive/web/2021/07/18/',\n",
       " 'https://www.thehindu.com/archive/web/2021/07/19/',\n",
       " 'https://www.thehindu.com/archive/web/2021/07/20/',\n",
       " 'https://www.thehindu.com/archive/web/2021/07/21/',\n",
       " 'https://www.thehindu.com/archive/web/2021/07/22/',\n",
       " 'https://www.thehindu.com/archive/web/2021/07/23/',\n",
       " 'https://www.thehindu.com/archive/web/2021/07/24/',\n",
       " 'https://www.thehindu.com/archive/web/2021/07/25/',\n",
       " 'https://www.thehindu.com/archive/web/2021/07/26/',\n",
       " 'https://www.thehindu.com/archive/web/2021/07/27/',\n",
       " 'https://www.thehindu.com/archive/web/2021/07/28/',\n",
       " 'https://www.thehindu.com/archive/web/2021/07/29/',\n",
       " 'https://www.thehindu.com/archive/web/2021/07/30/',\n",
       " 'https://www.thehindu.com/archive/web/2021/07/31/']"
      ]
     },
     "execution_count": 17,
     "metadata": {},
     "output_type": "execute_result"
    }
   ],
   "source": [
    "urls"
   ]
  },
  {
   "cell_type": "code",
   "execution_count": 21,
   "metadata": {},
   "outputs": [],
   "source": [
    "#code to get urls of news head from specific date\n",
    "url2 = []\n",
    "for i in driver.find_elements_by_xpath(\"//div[@class='col-sm-12 ']/div/section/div[2]/div/div/div/ul/li/a\"):\n",
    "    url2.append(i.get_attribute(\"href\"))"
   ]
  },
  {
   "cell_type": "code",
   "execution_count": 56,
   "metadata": {
    "scrolled": true
   },
   "outputs": [],
   "source": [
    "for i in urls:\n",
    "    elements=driver.find_elements_by_xpath(\"//div[@class='col-sm-12 ']/div/section/div[2]/div/div/div/ul/li/a\")\n",
    "    for j in elements :\n",
    "        url2.append(j.get_attribute(\"href\"))"
   ]
  },
  {
   "cell_type": "code",
   "execution_count": 57,
   "metadata": {
    "scrolled": true
   },
   "outputs": [
    {
     "data": {
      "text/plain": [
       "414"
      ]
     },
     "execution_count": 57,
     "metadata": {},
     "output_type": "execute_result"
    }
   ],
   "source": [
    "len(url2)"
   ]
  },
  {
   "cell_type": "code",
   "execution_count": 23,
   "metadata": {},
   "outputs": [],
   "source": [
    "date = []\n",
    "author = []\n",
    "topic = []\n",
    "headline = []\n",
    "description = []"
   ]
  },
  {
   "cell_type": "code",
   "execution_count": null,
   "metadata": {},
   "outputs": [],
   "source": [
    "#scraping dates , author name from a specific url2\n",
    "#date\n",
    "#try :\n",
    " #   dates = driver.find_element_by_xpath(\"//div[@class='author-container hidden-xs']/div/div/span\")\n",
    "  #  if dates.text is None:\n",
    "   #     date.append('-')\n",
    "    #else :\n",
    "     #   date.append(dates.text)\n",
    "#except NoSuchElementException :\n",
    " #   date.append('-')"
   ]
  },
  {
   "cell_type": "code",
   "execution_count": null,
   "metadata": {
    "scrolled": true
   },
   "outputs": [],
   "source": [
    "#date"
   ]
  },
  {
   "cell_type": "code",
   "execution_count": 58,
   "metadata": {
    "scrolled": false
   },
   "outputs": [
    {
     "ename": "WebDriverException",
     "evalue": "Message: disconnected: Unable to receive message from renderer\n  (Session info: chrome=92.0.4515.159)\n",
     "output_type": "error",
     "traceback": [
      "\u001b[1;31m---------------------------------------------------------------------------\u001b[0m",
      "\u001b[1;31mWebDriverException\u001b[0m                        Traceback (most recent call last)",
      "\u001b[1;32m<ipython-input-58-a0b03af6aebd>\u001b[0m in \u001b[0;36m<module>\u001b[1;34m\u001b[0m\n\u001b[0;32m      2\u001b[0m     \u001b[0mdriver\u001b[0m\u001b[1;33m.\u001b[0m\u001b[0mget\u001b[0m\u001b[1;33m(\u001b[0m\u001b[0mi\u001b[0m\u001b[1;33m)\u001b[0m\u001b[1;33m\u001b[0m\u001b[1;33m\u001b[0m\u001b[0m\n\u001b[0;32m      3\u001b[0m     \u001b[1;32mfor\u001b[0m \u001b[0mj\u001b[0m \u001b[1;32min\u001b[0m \u001b[0murl2\u001b[0m\u001b[1;33m:\u001b[0m\u001b[1;33m\u001b[0m\u001b[1;33m\u001b[0m\u001b[0m\n\u001b[1;32m----> 4\u001b[1;33m         \u001b[0mdriver\u001b[0m\u001b[1;33m.\u001b[0m\u001b[0mget\u001b[0m\u001b[1;33m(\u001b[0m\u001b[0mj\u001b[0m\u001b[1;33m)\u001b[0m\u001b[1;33m\u001b[0m\u001b[1;33m\u001b[0m\u001b[0m\n\u001b[0m\u001b[0;32m      5\u001b[0m         \u001b[1;31m#date\u001b[0m\u001b[1;33m\u001b[0m\u001b[1;33m\u001b[0m\u001b[1;33m\u001b[0m\u001b[0m\n\u001b[0;32m      6\u001b[0m         \u001b[1;32mtry\u001b[0m \u001b[1;33m:\u001b[0m\u001b[1;33m\u001b[0m\u001b[1;33m\u001b[0m\u001b[0m\n",
      "\u001b[1;32mC:\\ProgramData\\Anaconda3\\lib\\site-packages\\selenium\\webdriver\\remote\\webdriver.py\u001b[0m in \u001b[0;36mget\u001b[1;34m(self, url)\u001b[0m\n\u001b[0;32m    331\u001b[0m         \u001b[0mLoads\u001b[0m \u001b[0ma\u001b[0m \u001b[0mweb\u001b[0m \u001b[0mpage\u001b[0m \u001b[1;32min\u001b[0m \u001b[0mthe\u001b[0m \u001b[0mcurrent\u001b[0m \u001b[0mbrowser\u001b[0m \u001b[0msession\u001b[0m\u001b[1;33m.\u001b[0m\u001b[1;33m\u001b[0m\u001b[1;33m\u001b[0m\u001b[0m\n\u001b[0;32m    332\u001b[0m         \"\"\"\n\u001b[1;32m--> 333\u001b[1;33m         \u001b[0mself\u001b[0m\u001b[1;33m.\u001b[0m\u001b[0mexecute\u001b[0m\u001b[1;33m(\u001b[0m\u001b[0mCommand\u001b[0m\u001b[1;33m.\u001b[0m\u001b[0mGET\u001b[0m\u001b[1;33m,\u001b[0m \u001b[1;33m{\u001b[0m\u001b[1;34m'url'\u001b[0m\u001b[1;33m:\u001b[0m \u001b[0murl\u001b[0m\u001b[1;33m}\u001b[0m\u001b[1;33m)\u001b[0m\u001b[1;33m\u001b[0m\u001b[1;33m\u001b[0m\u001b[0m\n\u001b[0m\u001b[0;32m    334\u001b[0m \u001b[1;33m\u001b[0m\u001b[0m\n\u001b[0;32m    335\u001b[0m     \u001b[1;33m@\u001b[0m\u001b[0mproperty\u001b[0m\u001b[1;33m\u001b[0m\u001b[1;33m\u001b[0m\u001b[0m\n",
      "\u001b[1;32mC:\\ProgramData\\Anaconda3\\lib\\site-packages\\selenium\\webdriver\\remote\\webdriver.py\u001b[0m in \u001b[0;36mexecute\u001b[1;34m(self, driver_command, params)\u001b[0m\n\u001b[0;32m    319\u001b[0m         \u001b[0mresponse\u001b[0m \u001b[1;33m=\u001b[0m \u001b[0mself\u001b[0m\u001b[1;33m.\u001b[0m\u001b[0mcommand_executor\u001b[0m\u001b[1;33m.\u001b[0m\u001b[0mexecute\u001b[0m\u001b[1;33m(\u001b[0m\u001b[0mdriver_command\u001b[0m\u001b[1;33m,\u001b[0m \u001b[0mparams\u001b[0m\u001b[1;33m)\u001b[0m\u001b[1;33m\u001b[0m\u001b[1;33m\u001b[0m\u001b[0m\n\u001b[0;32m    320\u001b[0m         \u001b[1;32mif\u001b[0m \u001b[0mresponse\u001b[0m\u001b[1;33m:\u001b[0m\u001b[1;33m\u001b[0m\u001b[1;33m\u001b[0m\u001b[0m\n\u001b[1;32m--> 321\u001b[1;33m             \u001b[0mself\u001b[0m\u001b[1;33m.\u001b[0m\u001b[0merror_handler\u001b[0m\u001b[1;33m.\u001b[0m\u001b[0mcheck_response\u001b[0m\u001b[1;33m(\u001b[0m\u001b[0mresponse\u001b[0m\u001b[1;33m)\u001b[0m\u001b[1;33m\u001b[0m\u001b[1;33m\u001b[0m\u001b[0m\n\u001b[0m\u001b[0;32m    322\u001b[0m             response['value'] = self._unwrap_value(\n\u001b[0;32m    323\u001b[0m                 response.get('value', None))\n",
      "\u001b[1;32mC:\\ProgramData\\Anaconda3\\lib\\site-packages\\selenium\\webdriver\\remote\\errorhandler.py\u001b[0m in \u001b[0;36mcheck_response\u001b[1;34m(self, response)\u001b[0m\n\u001b[0;32m    240\u001b[0m                 \u001b[0malert_text\u001b[0m \u001b[1;33m=\u001b[0m \u001b[0mvalue\u001b[0m\u001b[1;33m[\u001b[0m\u001b[1;34m'alert'\u001b[0m\u001b[1;33m]\u001b[0m\u001b[1;33m.\u001b[0m\u001b[0mget\u001b[0m\u001b[1;33m(\u001b[0m\u001b[1;34m'text'\u001b[0m\u001b[1;33m)\u001b[0m\u001b[1;33m\u001b[0m\u001b[1;33m\u001b[0m\u001b[0m\n\u001b[0;32m    241\u001b[0m             \u001b[1;32mraise\u001b[0m \u001b[0mexception_class\u001b[0m\u001b[1;33m(\u001b[0m\u001b[0mmessage\u001b[0m\u001b[1;33m,\u001b[0m \u001b[0mscreen\u001b[0m\u001b[1;33m,\u001b[0m \u001b[0mstacktrace\u001b[0m\u001b[1;33m,\u001b[0m \u001b[0malert_text\u001b[0m\u001b[1;33m)\u001b[0m\u001b[1;33m\u001b[0m\u001b[1;33m\u001b[0m\u001b[0m\n\u001b[1;32m--> 242\u001b[1;33m         \u001b[1;32mraise\u001b[0m \u001b[0mexception_class\u001b[0m\u001b[1;33m(\u001b[0m\u001b[0mmessage\u001b[0m\u001b[1;33m,\u001b[0m \u001b[0mscreen\u001b[0m\u001b[1;33m,\u001b[0m \u001b[0mstacktrace\u001b[0m\u001b[1;33m)\u001b[0m\u001b[1;33m\u001b[0m\u001b[1;33m\u001b[0m\u001b[0m\n\u001b[0m\u001b[0;32m    243\u001b[0m \u001b[1;33m\u001b[0m\u001b[0m\n\u001b[0;32m    244\u001b[0m     \u001b[1;32mdef\u001b[0m \u001b[0m_value_or_default\u001b[0m\u001b[1;33m(\u001b[0m\u001b[0mself\u001b[0m\u001b[1;33m,\u001b[0m \u001b[0mobj\u001b[0m\u001b[1;33m,\u001b[0m \u001b[0mkey\u001b[0m\u001b[1;33m,\u001b[0m \u001b[0mdefault\u001b[0m\u001b[1;33m)\u001b[0m\u001b[1;33m:\u001b[0m\u001b[1;33m\u001b[0m\u001b[1;33m\u001b[0m\u001b[0m\n",
      "\u001b[1;31mWebDriverException\u001b[0m: Message: disconnected: Unable to receive message from renderer\n  (Session info: chrome=92.0.4515.159)\n"
     ]
    }
   ],
   "source": [
    "for i in urls :\n",
    "    driver.get(i)\n",
    "    for j in url2:\n",
    "        driver.get(j)\n",
    "        #date\n",
    "        try :\n",
    "            dates = driver.find_element_by_xpath(\"//div[@class='author-container hidden-xs']/div/div/span\")\n",
    "            if dates.text is None:\n",
    "                date.append('-')\n",
    "            else :\n",
    "                date.append(dates.text)\n",
    "        except NoSuchElementException:\n",
    "            date.append('-')\n",
    "                 \n",
    "                \n",
    "        #author\n",
    "        try :\n",
    "            auth = driver.find_element_by_xpath(\"//div[@class='author-container hidden-xs']/span/a[2]\")\n",
    "            if auth.text is None:\n",
    "                author.append('-')\n",
    "            else :\n",
    "                author.append(auth.text)\n",
    "        except NoSuchElementException :\n",
    "            author.append('-')          \n",
    "                  \n",
    "         #headline\n",
    "        try :\n",
    "            head = driver.find_element_by_xpath(\"//div[@class='article']/div[1]/h1\")\n",
    "            if head.text is None:\n",
    "                headline.append('-')\n",
    "            else :\n",
    "                headline.append(head.text)\n",
    "        except NoSuchElementException :\n",
    "            headline.append('-')\n",
    "        \n",
    "        #topic\n",
    "        try :\n",
    "            top = driver.find_element_by_xpath(\"//div[@class='article']/div[1]/div[1]/a\")\n",
    "            if top.text is None:\n",
    "                topic.append('-')\n",
    "            else :\n",
    "                topic.append(top.text) \n",
    "        except NoSuchElementException :\n",
    "                topic.append('-')\n",
    "        \n",
    "        #description        \n",
    "        try :\n",
    "            desp = driver.find_element_by_xpath(\"//div[@class='col-xs-12']/div/div[3]/div[3]/p\")\n",
    "            if desp.text is None:\n",
    "                 description.append('-')\n",
    "            else :\n",
    "                description.append(desp.text)\n",
    "        except NoSuchElementException:\n",
    "                      description.append('-')\n"
   ]
  },
  {
   "cell_type": "code",
   "execution_count": 59,
   "metadata": {},
   "outputs": [
    {
     "data": {
      "text/plain": [
       "(2525, 2525, 2525, 2525, 2525)"
      ]
     },
     "execution_count": 59,
     "metadata": {},
     "output_type": "execute_result"
    }
   ],
   "source": [
    "len(date),len(author),len(topic),len(headline),len(description\n",
    "                                                  )"
   ]
  },
  {
   "cell_type": "code",
   "execution_count": 60,
   "metadata": {},
   "outputs": [],
   "source": [
    "df = pd.DataFrame({})"
   ]
  },
  {
   "cell_type": "code",
   "execution_count": 61,
   "metadata": {},
   "outputs": [],
   "source": [
    "df['Date'] = date\n",
    "df['Author'] = author\n",
    "df['Topic'] = topic\n",
    "df['Headlines'] = headline\n",
    "df['Description'] = description"
   ]
  },
  {
   "cell_type": "code",
   "execution_count": 67,
   "metadata": {},
   "outputs": [
    {
     "data": {
      "text/html": [
       "<div>\n",
       "<style scoped>\n",
       "    .dataframe tbody tr th:only-of-type {\n",
       "        vertical-align: middle;\n",
       "    }\n",
       "\n",
       "    .dataframe tbody tr th {\n",
       "        vertical-align: top;\n",
       "    }\n",
       "\n",
       "    .dataframe thead th {\n",
       "        text-align: right;\n",
       "    }\n",
       "</style>\n",
       "<table border=\"1\" class=\"dataframe\">\n",
       "  <thead>\n",
       "    <tr style=\"text-align: right;\">\n",
       "      <th></th>\n",
       "      <th>Date</th>\n",
       "      <th>Author</th>\n",
       "      <th>Topic</th>\n",
       "      <th>Headlines</th>\n",
       "      <th>Description</th>\n",
       "    </tr>\n",
       "  </thead>\n",
       "  <tbody>\n",
       "    <tr>\n",
       "      <th>0</th>\n",
       "      <td>JULY 01, 2021 13:09 IST</td>\n",
       "      <td>P.K. Ajith Kumar</td>\n",
       "      <td>OTHER SPORTS</td>\n",
       "      <td>Abhimanyu Mishra is youngest-ever Grandmaster</td>\n",
       "      <td>“My short-term goal,” Abhimanyu Mishra had sai...</td>\n",
       "    </tr>\n",
       "    <tr>\n",
       "      <th>1</th>\n",
       "      <td>JULY 01, 2021 13:09 IST</td>\n",
       "      <td>P.K. Ajith Kumar</td>\n",
       "      <td>OTHER SPORTS</td>\n",
       "      <td>Abhimanyu Mishra is youngest-ever Grandmaster</td>\n",
       "      <td>“My short-term goal,” Abhimanyu Mishra had sai...</td>\n",
       "    </tr>\n",
       "    <tr>\n",
       "      <th>2</th>\n",
       "      <td>JUNE 30, 2021 22:06 IST</td>\n",
       "      <td>SPECIAL CORRESPONDENT</td>\n",
       "      <td>OTHER SPORTS</td>\n",
       "      <td>Nihal Sarin triumphs</td>\n",
       "      <td>Nihal Sarin won the Silver Lake Open chess tou...</td>\n",
       "    </tr>\n",
       "    <tr>\n",
       "      <th>3</th>\n",
       "      <td>JUNE 30, 2021 22:00 IST</td>\n",
       "      <td>SPECIAL CORRESPONDENT</td>\n",
       "      <td>OTHER SPORTS</td>\n",
       "      <td>National u-10 chess put off till July 4</td>\n",
       "      <td>Owing to unresolved issues with the official o...</td>\n",
       "    </tr>\n",
       "    <tr>\n",
       "      <th>4</th>\n",
       "      <td>JUNE 30, 2021 22:20 IST</td>\n",
       "      <td>REUTERS</td>\n",
       "      <td>OTHER SPORTS</td>\n",
       "      <td>Pogacar means business</td>\n",
       "      <td>Slovenian Tadej Pogacar emerged as the overwhe...</td>\n",
       "    </tr>\n",
       "  </tbody>\n",
       "</table>\n",
       "</div>"
      ],
      "text/plain": [
       "                      Date                 Author         Topic  \\\n",
       "0  JULY 01, 2021 13:09 IST       P.K. Ajith Kumar  OTHER SPORTS   \n",
       "1  JULY 01, 2021 13:09 IST       P.K. Ajith Kumar  OTHER SPORTS   \n",
       "2  JUNE 30, 2021 22:06 IST  SPECIAL CORRESPONDENT  OTHER SPORTS   \n",
       "3  JUNE 30, 2021 22:00 IST  SPECIAL CORRESPONDENT  OTHER SPORTS   \n",
       "4  JUNE 30, 2021 22:20 IST                REUTERS  OTHER SPORTS   \n",
       "\n",
       "                                       Headlines  \\\n",
       "0  Abhimanyu Mishra is youngest-ever Grandmaster   \n",
       "1  Abhimanyu Mishra is youngest-ever Grandmaster   \n",
       "2                           Nihal Sarin triumphs   \n",
       "3        National u-10 chess put off till July 4   \n",
       "4                         Pogacar means business   \n",
       "\n",
       "                                         Description  \n",
       "0  “My short-term goal,” Abhimanyu Mishra had sai...  \n",
       "1  “My short-term goal,” Abhimanyu Mishra had sai...  \n",
       "2  Nihal Sarin won the Silver Lake Open chess tou...  \n",
       "3  Owing to unresolved issues with the official o...  \n",
       "4  Slovenian Tadej Pogacar emerged as the overwhe...  "
      ]
     },
     "execution_count": 67,
     "metadata": {},
     "output_type": "execute_result"
    }
   ],
   "source": [
    "df.head()"
   ]
  },
  {
   "cell_type": "code",
   "execution_count": 63,
   "metadata": {},
   "outputs": [],
   "source": [
    "df.to_csv(\"News_scraping\")"
   ]
  },
  {
   "cell_type": "code",
   "execution_count": 66,
   "metadata": {},
   "outputs": [],
   "source": [
    "df.to_excel(\"NewsScraingXL.xlsx\")"
   ]
  },
  {
   "cell_type": "code",
   "execution_count": null,
   "metadata": {},
   "outputs": [],
   "source": []
  }
 ],
 "metadata": {
  "kernelspec": {
   "display_name": "Python 3",
   "language": "python",
   "name": "python3"
  },
  "language_info": {
   "codemirror_mode": {
    "name": "ipython",
    "version": 3
   },
   "file_extension": ".py",
   "mimetype": "text/x-python",
   "name": "python",
   "nbconvert_exporter": "python",
   "pygments_lexer": "ipython3",
   "version": "3.8.5"
  }
 },
 "nbformat": 4,
 "nbformat_minor": 4
}
